{
 "cells": [
  {
   "cell_type": "code",
   "execution_count": 21,
   "metadata": {
    "collapsed": true
   },
   "outputs": [],
   "source": [
    "import pandas as pd\n",
    "import numpy as np\n",
    "import os"
   ]
  },
  {
   "cell_type": "code",
   "execution_count": 46,
   "metadata": {
    "collapsed": true
   },
   "outputs": [],
   "source": [
    "def generate_data(n, d, sigma):\n",
    "    \"\"\"\n",
    "    Models relationship Y = XB + eps, where eps is standard normal.\n",
    "    \n",
    "    Returns numpy arrays of X and Y\n",
    "    \"\"\"\n",
    "    X = np.random.random(size = (n, d))\n",
    "    beta = np.random.random(size = (d, 1))\n",
    "    eps = np.random.standard_normal(size = (n, 1)) * sigma\n",
    "    \n",
    "    Y = X@beta + eps\n",
    "    \n",
    "    return X, Y"
   ]
  },
  {
   "cell_type": "code",
   "execution_count": 47,
   "metadata": {
    "collapsed": true
   },
   "outputs": [],
   "source": [
    "def make_dir(name, remove_existing=True):\n",
    "    if os.path.exists(name) and remove_existing:\n",
    "        shutil.rmtree(name)\n",
    "    if not os.path.exists(name):\n",
    "        os.mkdir(name)\n",
    "\n",
    "def create_dataset(n, d, sigma, dataset_name):\n",
    "    \"\"\"\n",
    "    Generates Dataset and stores it in specified path under the data folder.\n",
    "    \n",
    "    Stores as a dataframe where labels are the Y column (the rest is part of X)\n",
    "    \"\"\"\n",
    "    X, Y = generate_data(n, d, sigma)\n",
    "    X_df = pd.DataFrame(X)\n",
    "    X_df['Y'] = Y\n",
    "    \n",
    "    path = 'gendata/{}.csv'.format(dataset_name)\n",
    "    print(\"Writing to csv at {}\".format(path))\n",
    "    X_df.to_csv(path, index=False)\n",
    "    \n",
    "    return X, Y"
   ]
  },
  {
   "cell_type": "code",
   "execution_count": 48,
   "metadata": {},
   "outputs": [
    {
     "name": "stdout",
     "output_type": "stream",
     "text": [
      "Writing to csv at gendata/example_dataset1.csv\n",
      "Writing to csv at gendata/example_dataset2.csv\n",
      "Writing to csv at gendata/example_dataset3.csv\n",
      "Writing to csv at gendata/example_dataset4.csv\n",
      "Writing to csv at gendata/example_dataset5.csv\n",
      "Writing to csv at gendata/example_dataset6.csv\n",
      "Writing to csv at gendata/example_dataset7.csv\n",
      "Writing to csv at gendata/example_dataset8.csv\n",
      "Writing to csv at gendata/example_dataset9.csv\n",
      "Writing to csv at gendata/example_dataset10.csv\n",
      "Writing to csv at gendata/example_dataset11.csv\n",
      "Writing to csv at gendata/example_dataset12.csv\n",
      "Writing to csv at gendata/example_dataset13.csv\n",
      "Writing to csv at gendata/example_dataset14.csv\n",
      "Writing to csv at gendata/example_dataset15.csv\n",
      "Writing to csv at gendata/example_dataset16.csv\n",
      "Writing to csv at gendata/example_dataset17.csv\n",
      "Writing to csv at gendata/example_dataset18.csv\n",
      "Writing to csv at gendata/example_dataset19.csv\n",
      "Writing to csv at gendata/example_dataset20.csv\n",
      "Writing to csv at gendata/example_dataset21.csv\n",
      "Writing to csv at gendata/example_dataset22.csv\n",
      "Writing to csv at gendata/example_dataset23.csv\n",
      "Writing to csv at gendata/example_dataset24.csv\n",
      "Writing to csv at gendata/example_dataset25.csv\n",
      "Writing to csv at gendata/example_dataset26.csv\n",
      "Writing to csv at gendata/example_dataset27.csv\n",
      "Writing to csv at gendata/example_dataset28.csv\n",
      "Writing to csv at gendata/example_dataset29.csv\n",
      "Writing to csv at gendata/example_dataset30.csv\n",
      "Writing to csv at gendata/example_dataset31.csv\n",
      "Writing to csv at gendata/example_dataset32.csv\n",
      "Writing to csv at gendata/example_dataset33.csv\n",
      "Writing to csv at gendata/example_dataset34.csv\n",
      "Writing to csv at gendata/example_dataset35.csv\n",
      "Writing to csv at gendata/example_dataset36.csv\n",
      "Writing to csv at gendata/example_dataset37.csv\n",
      "Writing to csv at gendata/example_dataset38.csv\n",
      "Writing to csv at gendata/example_dataset39.csv\n",
      "Writing to csv at gendata/example_dataset40.csv\n",
      "Writing to csv at gendata/example_dataset41.csv\n",
      "Writing to csv at gendata/example_dataset42.csv\n",
      "Writing to csv at gendata/example_dataset43.csv\n",
      "Writing to csv at gendata/example_dataset44.csv\n",
      "Writing to csv at gendata/example_dataset45.csv\n",
      "Writing to csv at gendata/example_dataset46.csv\n",
      "Writing to csv at gendata/example_dataset47.csv\n",
      "Writing to csv at gendata/example_dataset48.csv\n",
      "Writing to csv at gendata/example_dataset49.csv\n",
      "Writing to csv at gendata/example_dataset50.csv\n",
      "Writing to csv at gendata/example_dataset51.csv\n",
      "Writing to csv at gendata/example_dataset52.csv\n",
      "Writing to csv at gendata/example_dataset53.csv\n",
      "Writing to csv at gendata/example_dataset54.csv\n",
      "Writing to csv at gendata/example_dataset55.csv\n",
      "Writing to csv at gendata/example_dataset56.csv\n",
      "Writing to csv at gendata/example_dataset57.csv\n",
      "Writing to csv at gendata/example_dataset58.csv\n",
      "Writing to csv at gendata/example_dataset59.csv\n",
      "Writing to csv at gendata/example_dataset60.csv\n",
      "Writing to csv at gendata/example_dataset61.csv\n",
      "Writing to csv at gendata/example_dataset62.csv\n",
      "Writing to csv at gendata/example_dataset63.csv\n",
      "Writing to csv at gendata/example_dataset64.csv\n",
      "Writing to csv at gendata/example_dataset65.csv\n",
      "Writing to csv at gendata/example_dataset66.csv\n",
      "Writing to csv at gendata/example_dataset67.csv\n",
      "Writing to csv at gendata/example_dataset68.csv\n",
      "Writing to csv at gendata/example_dataset69.csv\n",
      "Writing to csv at gendata/example_dataset70.csv\n",
      "Writing to csv at gendata/example_dataset71.csv\n",
      "Writing to csv at gendata/example_dataset72.csv\n",
      "Writing to csv at gendata/example_dataset73.csv\n",
      "Writing to csv at gendata/example_dataset74.csv\n",
      "Writing to csv at gendata/example_dataset75.csv\n",
      "Writing to csv at gendata/example_dataset76.csv\n",
      "Writing to csv at gendata/example_dataset77.csv\n",
      "Writing to csv at gendata/example_dataset78.csv\n",
      "Writing to csv at gendata/example_dataset79.csv\n",
      "Writing to csv at gendata/example_dataset80.csv\n",
      "Writing to csv at gendata/example_dataset81.csv\n",
      "Writing to csv at gendata/example_dataset82.csv\n",
      "Writing to csv at gendata/example_dataset83.csv\n",
      "Writing to csv at gendata/example_dataset84.csv\n",
      "Writing to csv at gendata/example_dataset85.csv\n",
      "Writing to csv at gendata/example_dataset86.csv\n",
      "Writing to csv at gendata/example_dataset87.csv\n",
      "Writing to csv at gendata/example_dataset88.csv\n",
      "Writing to csv at gendata/example_dataset89.csv\n",
      "Writing to csv at gendata/example_dataset90.csv\n",
      "Writing to csv at gendata/example_dataset91.csv\n",
      "Writing to csv at gendata/example_dataset92.csv\n",
      "Writing to csv at gendata/example_dataset93.csv\n",
      "Writing to csv at gendata/example_dataset94.csv\n",
      "Writing to csv at gendata/example_dataset95.csv\n",
      "Writing to csv at gendata/example_dataset96.csv\n",
      "Writing to csv at gendata/example_dataset97.csv\n",
      "Writing to csv at gendata/example_dataset98.csv\n",
      "Writing to csv at gendata/example_dataset99.csv\n",
      "Writing to csv at gendata/example_dataset100.csv\n"
     ]
    }
   ],
   "source": [
    "for i in range(100):\n",
    "    n = np.random.randint(50, 100)\n",
    "    d = np.random.randint(2, 10)\n",
    "    sigma = np.random.random()\n",
    "    create_dataset(n, d, sigma, 'example_dataset' + str(i + 1))"
   ]
  },
  {
   "cell_type": "code",
   "execution_count": 36,
   "metadata": {},
   "outputs": [],
   "source": [
    "X_df = pd.read_csv('gendata/erase_me_dataset.csv')\n",
    "X_df\n",
    "X_1, Y_1 = np.array(X_df.drop('Y', axis=1)), np.transpose(np.array([X_df['Y']]))"
   ]
  },
  {
   "cell_type": "code",
   "execution_count": 42,
   "metadata": {},
   "outputs": [
    {
     "data": {
      "text/plain": [
       "array([[-1.11022302e-16, -3.46944695e-18,  0.00000000e+00],\n",
       "       [ 0.00000000e+00,  5.55111512e-17,  0.00000000e+00],\n",
       "       [ 0.00000000e+00,  0.00000000e+00,  0.00000000e+00],\n",
       "       [ 0.00000000e+00,  1.11022302e-16,  0.00000000e+00],\n",
       "       [ 0.00000000e+00,  0.00000000e+00,  1.11022302e-16],\n",
       "       [-2.77555756e-17,  0.00000000e+00,  0.00000000e+00],\n",
       "       [-5.55111512e-17,  0.00000000e+00,  5.55111512e-17],\n",
       "       [ 0.00000000e+00,  0.00000000e+00,  0.00000000e+00],\n",
       "       [ 0.00000000e+00,  0.00000000e+00,  0.00000000e+00],\n",
       "       [ 0.00000000e+00,  5.55111512e-17,  0.00000000e+00],\n",
       "       [ 0.00000000e+00, -2.77555756e-17,  0.00000000e+00],\n",
       "       [ 1.11022302e-16, -1.11022302e-16,  0.00000000e+00],\n",
       "       [ 0.00000000e+00,  0.00000000e+00,  0.00000000e+00],\n",
       "       [ 0.00000000e+00,  0.00000000e+00,  0.00000000e+00],\n",
       "       [ 0.00000000e+00,  1.38777878e-17,  0.00000000e+00],\n",
       "       [ 0.00000000e+00,  0.00000000e+00, -1.11022302e-16],\n",
       "       [ 1.11022302e-16,  0.00000000e+00,  0.00000000e+00],\n",
       "       [ 0.00000000e+00,  0.00000000e+00, -2.77555756e-17],\n",
       "       [-2.77555756e-17,  5.55111512e-17, -5.55111512e-17],\n",
       "       [ 0.00000000e+00, -5.55111512e-17,  0.00000000e+00],\n",
       "       [ 2.77555756e-17,  0.00000000e+00,  0.00000000e+00],\n",
       "       [ 0.00000000e+00, -1.38777878e-17,  0.00000000e+00],\n",
       "       [ 0.00000000e+00,  5.55111512e-17,  0.00000000e+00],\n",
       "       [ 0.00000000e+00,  0.00000000e+00,  0.00000000e+00],\n",
       "       [ 0.00000000e+00,  0.00000000e+00,  0.00000000e+00],\n",
       "       [ 0.00000000e+00,  0.00000000e+00,  0.00000000e+00],\n",
       "       [ 5.55111512e-17,  0.00000000e+00, -1.11022302e-16],\n",
       "       [ 0.00000000e+00,  0.00000000e+00,  0.00000000e+00],\n",
       "       [ 0.00000000e+00,  0.00000000e+00,  0.00000000e+00],\n",
       "       [ 0.00000000e+00,  0.00000000e+00,  5.55111512e-17],\n",
       "       [-2.77555756e-17,  0.00000000e+00,  0.00000000e+00],\n",
       "       [ 0.00000000e+00,  0.00000000e+00,  0.00000000e+00],\n",
       "       [ 0.00000000e+00,  0.00000000e+00,  0.00000000e+00],\n",
       "       [ 0.00000000e+00,  0.00000000e+00, -5.55111512e-17],\n",
       "       [ 1.11022302e-16,  0.00000000e+00,  0.00000000e+00],\n",
       "       [ 0.00000000e+00,  0.00000000e+00,  0.00000000e+00],\n",
       "       [ 0.00000000e+00,  0.00000000e+00,  0.00000000e+00],\n",
       "       [-5.55111512e-17,  0.00000000e+00,  0.00000000e+00],\n",
       "       [ 0.00000000e+00,  0.00000000e+00,  0.00000000e+00],\n",
       "       [ 0.00000000e+00,  0.00000000e+00,  5.55111512e-17],\n",
       "       [-5.55111512e-17,  0.00000000e+00,  0.00000000e+00],\n",
       "       [ 0.00000000e+00,  0.00000000e+00,  0.00000000e+00],\n",
       "       [ 1.11022302e-16,  0.00000000e+00,  0.00000000e+00],\n",
       "       [ 0.00000000e+00,  0.00000000e+00,  0.00000000e+00],\n",
       "       [ 0.00000000e+00,  0.00000000e+00,  0.00000000e+00],\n",
       "       [ 0.00000000e+00,  0.00000000e+00,  0.00000000e+00],\n",
       "       [ 0.00000000e+00,  0.00000000e+00,  0.00000000e+00],\n",
       "       [ 0.00000000e+00,  0.00000000e+00,  0.00000000e+00],\n",
       "       [ 0.00000000e+00,  0.00000000e+00,  0.00000000e+00],\n",
       "       [ 0.00000000e+00,  0.00000000e+00,  5.55111512e-17],\n",
       "       [ 0.00000000e+00,  0.00000000e+00,  0.00000000e+00],\n",
       "       [ 0.00000000e+00,  0.00000000e+00,  0.00000000e+00],\n",
       "       [ 0.00000000e+00,  0.00000000e+00,  0.00000000e+00],\n",
       "       [ 5.55111512e-17,  0.00000000e+00,  0.00000000e+00],\n",
       "       [ 0.00000000e+00,  0.00000000e+00,  1.38777878e-17]])"
      ]
     },
     "execution_count": 42,
     "metadata": {},
     "output_type": "execute_result"
    }
   ],
   "source": []
  },
  {
   "cell_type": "code",
   "execution_count": 30,
   "metadata": {},
   "outputs": [
    {
     "data": {
      "text/plain": [
       "(array([[0.34109845, 0.62115684, 0.88151336, 0.7296778 , 0.72633312],\n",
       "        [0.02493885, 0.55719115, 0.31301837, 0.44702444, 0.20512388],\n",
       "        [0.44025946, 0.84602163, 0.18412939, 0.75361602, 0.22314563],\n",
       "        [0.30733253, 0.17496758, 0.97077532, 0.87751588, 0.03719081],\n",
       "        [0.45783826, 0.33000581, 0.97598169, 0.09626396, 0.80891325],\n",
       "        [0.90573312, 0.0948442 , 0.24743599, 0.32722026, 0.12684259],\n",
       "        [0.1840283 , 0.50639223, 0.08824148, 0.80773569, 0.92304995],\n",
       "        [0.59503357, 0.78875127, 0.40278723, 0.97114368, 0.02174225],\n",
       "        [0.77562355, 0.92254702, 0.10751566, 0.80620005, 0.79584472],\n",
       "        [0.56342556, 0.71701902, 0.08093584, 0.11833047, 0.57173621]]),\n",
       " array([[ 0.0946776 ],\n",
       "        [-0.90367554],\n",
       "        [ 1.4670011 ],\n",
       "        [ 1.21300312],\n",
       "        [-0.64912593],\n",
       "        [ 1.64838266],\n",
       "        [ 0.24215126],\n",
       "        [ 0.57126584],\n",
       "        [ 2.80949248],\n",
       "        [-0.84963675]]))"
      ]
     },
     "execution_count": 30,
     "metadata": {},
     "output_type": "execute_result"
    }
   ],
   "source": [
    "n, d = 10, 5\n",
    "X, Y = generate_data(n, d)\n",
    "X, Y"
   ]
  },
  {
   "cell_type": "code",
   "execution_count": 17,
   "metadata": {},
   "outputs": [
    {
     "ename": "AttributeError",
     "evalue": "module 'numpy' has no attribute 'loadz'",
     "output_type": "error",
     "traceback": [
      "\u001b[1;31m---------------------------------------------------------------------------\u001b[0m",
      "\u001b[1;31mAttributeError\u001b[0m                            Traceback (most recent call last)",
      "\u001b[1;32m<ipython-input-17-429d70838338>\u001b[0m in \u001b[0;36m<module>\u001b[1;34m()\u001b[0m\n\u001b[1;32m----> 1\u001b[1;33m \u001b[0ma\u001b[0m\u001b[1;33m=\u001b[0m\u001b[0mtuple\u001b[0m\u001b[1;33m(\u001b[0m\u001b[0mnp\u001b[0m\u001b[1;33m.\u001b[0m\u001b[0mloadz\u001b[0m\u001b[1;33m(\u001b[0m\u001b[1;34m'ex'\u001b[0m\u001b[1;33m)\u001b[0m\u001b[1;33m[\u001b[0m\u001b[1;34m'arr_0'\u001b[0m\u001b[1;33m]\u001b[0m\u001b[1;33m)\u001b[0m\u001b[1;33m\u001b[0m\u001b[0m\n\u001b[0m\u001b[0;32m      2\u001b[0m \u001b[0ma\u001b[0m\u001b[1;33m\u001b[0m\u001b[0m\n",
      "\u001b[1;31mAttributeError\u001b[0m: module 'numpy' has no attribute 'loadz'"
     ]
    }
   ],
   "source": []
  }
 ],
 "metadata": {
  "kernelspec": {
   "display_name": "Python 3",
   "language": "python",
   "name": "python3"
  },
  "language_info": {
   "codemirror_mode": {
    "name": "ipython",
    "version": 3
   },
   "file_extension": ".py",
   "mimetype": "text/x-python",
   "name": "python",
   "nbconvert_exporter": "python",
   "pygments_lexer": "ipython3",
   "version": "3.6.1"
  }
 },
 "nbformat": 4,
 "nbformat_minor": 2
}
