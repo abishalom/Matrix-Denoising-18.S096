{
 "cells": [
  {
   "cell_type": "code",
   "execution_count": 4,
   "metadata": {},
   "outputs": [
    {
     "data": {
      "text/plain": [
       "\"\\nSo I created 100 random datasets in Data Generator of between 50-100 points and 2-10 dimensional X points\\nand sigma of between 0-1. You can change those values and make new datasets if you want easily in the last box of \\nData Generator.\\n\\nThe second box here is my solve least squares, ridge regression, and ALS code.\\nThe third box loads the datasets (change the 100 to a different value if you change the number of datasets) with the \\nfirst function. It creates many lambda values (right now 100, so we have a 100x100 matrix overall). get_points \\nrandomly chooses approximately #rows*#cols*p + #rows + #cols points as training data and \\n#rows*#cols*q + #rows + #cols points as test data. get_MSE gives the \\nMSE for that dataset and lambda value. generate_data calculates the MSE for all of those and\\nformats it so ALS can run.\\n\\nThings to mess around with: rank, as currently it's using 2. p and q are the approximate percentage of the matrix\\nthat is filled. MSE_iters is how precise the MSE is. ALS_lam is how regularized the ALS is.\\n\""
      ]
     },
     "execution_count": 4,
     "metadata": {},
     "output_type": "execute_result"
    }
   ],
   "source": [
    "\"\"\"\n",
    "So I created 100 random datasets in Data Generator of between 50-100 points and 2-10 dimensional X points\n",
    "and sigma of between 0-1. You can change those values and make new datasets if you want easily in the last box of \n",
    "Data Generator.\n",
    "\n",
    "The second box here is my solve least squares, ridge regression, and ALS code.\n",
    "The third box loads the datasets (change the 100 to a different value if you change the number of datasets) with the \n",
    "first function. It creates many lambda values (right now 100, so we have a 100x100 matrix overall). get_points \n",
    "randomly chooses approximately #rows*#cols*p + #rows + #cols points as training data and \n",
    "#rows*#cols*q + #rows + #cols points as test data. get_MSE gives the \n",
    "MSE for that dataset and lambda value. generate_data calculates the MSE for all of those and\n",
    "formats it so ALS can run.\n",
    "\n",
    "Things to mess around with: rank, as currently it's using 2. p and q are the approximate percentage of the matrix\n",
    "that is filled. MSE_iters is how precise the MSE is. ALS_lam is how regularized the ALS is.\n",
    "\"\"\""
   ]
  },
  {
   "cell_type": "code",
   "execution_count": 27,
   "metadata": {},
   "outputs": [],
   "source": [
    "import pandas as pd\n",
    "import numpy as np\n",
    "from sklearn.model_selection import train_test_split\n",
    "import matplotlib.pyplot as plt"
   ]
  },
  {
   "cell_type": "code",
   "execution_count": 16,
   "metadata": {},
   "outputs": [],
   "source": [
    "def solve_ls(X, y):\n",
    "    inv = np.linalg.inv(np.dot(X.T, X))\n",
    "    a = np.dot(inv, X.T)\n",
    "    return np.dot(a, y)\n",
    "\n",
    "def solve_rr(X, y, lam):\n",
    "    inv = np.linalg.inv(np.dot(X.T, X) + lam * np.identity(np.shape(X)[1]))\n",
    "    a = np.dot(inv, X.T)\n",
    "    return np.dot(a, y)\n",
    "\n",
    "#John's ALS code\n",
    "def ALS(data_train, data_test, k=2, lam=0.02, max_iter=100, verbose = False):\n",
    "    '''\n",
    "    data_train and data_test are lists of tuples (row, column, MSE)\n",
    "    these need to be integers so we need to map each dataset and lambda value to an integer (MSE need not be integer)\n",
    "    \n",
    "    k is rank\n",
    "    lam is the regularizer on the least squares call in each step\n",
    "    \n",
    "    my code also has offsets b_u and b_v\n",
    "    the prediction for entry (a, i) is (b_u[a] + b_v[i] + np.dot(u[a].T, v[i])[0][0])\n",
    "    '''\n",
    "    # size of the problem\n",
    "    n = max(d[0] for d in data_train)+1 # datasets\n",
    "    m = max(d[1] for d in data_train)+1 # lambda values\n",
    "    # which entries are set in each row and column and the MSE\n",
    "    us_from_v = [[] for i in range(m)]  # II (i-index-set)\n",
    "    vs_from_u = [[] for a in range(n)]  # AI (a-index set)\n",
    "    for (a, i, r) in data_train:\n",
    "        us_from_v[i].append((a, r))\n",
    "        vs_from_u[a].append((i, r))\n",
    "    # Initial guesses for u, b_u, v, b_v\n",
    "    # Note that u and v are lists of column vectors (rows of U, V).\n",
    "    u, b_u, v, b_v = ([np.random.normal(1/k, size=(k,1)) for a in range(n)],\n",
    "          np.zeros(n),\n",
    "          [np.random.normal(1/k, size=(k,1)) for i in range(m)],\n",
    "          np.zeros(m))\n",
    "    for itr in range(max_iter):\n",
    "        if itr%5 == 0 and verbose:\n",
    "            print(itr)\n",
    "        for i in range(len(u)): #run ls on u\n",
    "            X_mat = np.array([np.append(np.array([1]), v[a[0]].T[0]) for a in vs_from_u[i]])\n",
    "            y_vec = np.array([[a[1] - b_v[a[0]]] for a in vs_from_u[i]])\n",
    "            if len(X_mat) > 0:\n",
    "                sol = solve_rr(X_mat, y_vec, lam)\n",
    "                b_u[i] = sol[0]\n",
    "                u[i] = sol[1:]\n",
    "        for j in range(len(v)): #run ls on v\n",
    "            X_mat = np.array([np.append(np.array([1]), u[a[0]].T[0]) for a in us_from_v[j]])\n",
    "            y_vec = np.array([[a[1] - b_u[a[0]]] for a in us_from_v[j]])\n",
    "            if len(X_mat) > 0:\n",
    "                sol = solve_rr(X_mat, y_vec, lam)\n",
    "                b_v[j] = sol[0][0]\n",
    "                v[j] = sol[:][1:]\n",
    "            \n",
    "    # TODO: Evaluate using some error metric measured on test set\n",
    "    error = 0\n",
    "    count = 0\n",
    "    for (a, i, r) in data_test:\n",
    "        count += 1\n",
    "        error += (b_u[a] + b_v[i] + np.dot(u[a].T, v[i])[0][0] - r) ** 2\n",
    "    error = error / count\n",
    "    return (u, b_u, v, b_v, error)"
   ]
  },
  {
   "cell_type": "code",
   "execution_count": 17,
   "metadata": {},
   "outputs": [],
   "source": [
    "def load_datasets():\n",
    "    dataset_dic = {}\n",
    "    for i in range(100):\n",
    "        X_df = pd.read_csv('gendata/example_dataset' + str(i + 1) + '.csv')\n",
    "        dataset_dic[i] = X_df\n",
    "    return dataset_dic\n",
    "\n",
    "lambda_dic = {lamb + 60: 10 ** (-.05 * lamb) for lamb in range(-60, 40)}\n",
    "  \n",
    "def get_points(m, n, p, q):\n",
    "    train_points = set()\n",
    "\n",
    "    for i in range(m):\n",
    "        j = np.random.randint(0, n)\n",
    "        train_points.add((i, j))\n",
    "    for j in range(n):\n",
    "        i = np.random.randint(0, m)\n",
    "        if (i, j) not in train_points:\n",
    "            train_points.add((i, j))\n",
    "    for i in range(m):\n",
    "        for j in range(n):\n",
    "            if np.random.random() < p:\n",
    "                if (i, j) not in train_points:\n",
    "                    train_points.add((i, j))\n",
    "\n",
    "    test_points = set()\n",
    "\n",
    "    for i in range(m):\n",
    "        for j in range(n):\n",
    "            if np.random.random() < q:\n",
    "                if (i, j) not in train_points:\n",
    "                    test_points.add((i, j))\n",
    "                    \n",
    "    return train_points, test_points\n",
    "\n",
    "def get_MSE(X_df, lam, iters = 1, size = 0.5):\n",
    "    MSE = 0\n",
    "    for _ in range(iters):\n",
    "        train, test = train_test_split(X_df, test_size=size)\n",
    "        X_train, Y_train = np.array(train.drop('Y', axis=1)), np.transpose(np.array([train['Y']]))\n",
    "        X_1 = np.hstack((np.ones(shape = (len(X_train), 1)), X_train))\n",
    "        sol = solve_rr(X_1, Y_train, lam)\n",
    "        X_test, Y_test = np.array(test.drop('Y', axis=1)), np.transpose(np.array([test['Y']]))\n",
    "        X_2 = np.hstack((np.ones(shape = (len(X_test), 1)), X_test))\n",
    "        MSE += np.linalg.norm(X_2@sol - Y_test) / len(X_2)\n",
    "    return MSE / iters\n",
    "\n",
    "def generate_data(dataset_dic, lambda_dic, points, iters = 1, size = 0.5):\n",
    "    data = []\n",
    "    for (i, j) in points:\n",
    "        MSE = get_MSE(dataset_dic[i], lambda_dic[j], iters, size)\n",
    "        data.append((i, j, MSE))                    \n",
    "    return data     "
   ]
  },
  {
   "cell_type": "code",
   "execution_count": 21,
   "metadata": {},
   "outputs": [],
   "source": [
    "def run_ALS(p=0.05, q=0.1, MSE_iters=10, rank = 2, ALS_lam = 0.02, ALS_iters = 100, verbose = False):\n",
    "    dataset_dic = load_datasets()\n",
    "    if verbose: print('loaded datasets')\n",
    "    train_pts, test_pts = get_points(len(dataset_dic), len(lambda_dic), p = p, q = q)\n",
    "    if verbose: print('generated points')\n",
    "    data_train = generate_data(dataset_dic, lambda_dic, train_pts, iters = MSE_iters)\n",
    "    if verbose: print('generated train list')\n",
    "    data_test = generate_data(dataset_dic, lambda_dic, test_pts, iters = MSE_iters)\n",
    "    if verbose: print('generated test list')\n",
    "    u, b_u, v, b_v, error = ALS(data_train, data_test, k=rank, lam=ALS_lam, max_iter=ALS_iters)\n",
    "    if verbose: print('finished ALS. Error {}'.format(error))\n",
    "    return error\n"
   ]
  },
  {
   "cell_type": "code",
   "execution_count": 23,
   "metadata": {},
   "outputs": [
    {
     "name": "stdout",
     "output_type": "stream",
     "text": [
      "Error with rank 2 and als_lam 0.0 is 19121.143571842666\n",
      "Error with rank 2 and als_lam 0.02 is 0.0005436655236343179\n",
      "Error with rank 2 and als_lam 0.04 is 0.0006301680461849621\n",
      "Error with rank 2 and als_lam 0.06 is 0.0008248270353622123\n",
      "Error with rank 2 and als_lam 0.08 is 0.0007097211324746214\n",
      "Error with rank 2 and als_lam 0.1 is 0.0008363401906133342\n",
      "Error with rank 2 and als_lam 0.12 is 0.0012329358008907338\n",
      "Error with rank 2 and als_lam 0.14 is 0.0013159234879363054\n",
      "Error with rank 2 and als_lam 0.16 is 0.0011029406844145246\n",
      "Error with rank 2 and als_lam 0.18 is 0.0012523162404151293\n",
      "Error with rank 3 and als_lam 0.0 is 7.903798942422541e+41\n",
      "Error with rank 3 and als_lam 0.02 is 0.0005751785397961071\n",
      "Error with rank 3 and als_lam 0.04 is 0.0009052526312427642\n",
      "Error with rank 3 and als_lam 0.06 is 0.0010542072147205436\n",
      "Error with rank 3 and als_lam 0.08 is 0.000853092116854198\n",
      "Error with rank 3 and als_lam 0.1 is 0.0010895942969095145\n",
      "Error with rank 3 and als_lam 0.12 is 0.0012960137084276036\n",
      "Error with rank 3 and als_lam 0.14 is 0.0009757907318988916\n",
      "Error with rank 3 and als_lam 0.16 is 0.0017812071799734124\n",
      "Error with rank 3 and als_lam 0.18 is 0.0013860414048152891\n",
      "Error with rank 4 and als_lam 0.0 is 1.944442862836349e+44\n",
      "Error with rank 4 and als_lam 0.02 is 0.0010572904717582401\n",
      "Error with rank 4 and als_lam 0.04 is 0.000872110065338877\n",
      "Error with rank 4 and als_lam 0.06 is 0.0006910834524617366\n",
      "Error with rank 4 and als_lam 0.08 is 0.0008131471138612852\n",
      "Error with rank 4 and als_lam 0.1 is 0.0008514566580904597\n",
      "Error with rank 4 and als_lam 0.12 is 0.0014564686605022209\n",
      "Error with rank 4 and als_lam 0.14 is 0.0015428473498042474\n",
      "Error with rank 4 and als_lam 0.16 is 0.0014696367593216185\n",
      "Error with rank 4 and als_lam 0.18 is 0.0018644477825984686\n",
      "Error with rank 5 and als_lam 0.0 is 6.413919582389994e+166\n",
      "Error with rank 5 and als_lam 0.02 is 0.000581449569959844\n",
      "Error with rank 5 and als_lam 0.04 is 0.0009901305826286071\n",
      "Error with rank 5 and als_lam 0.06 is 0.0008189093895994635\n",
      "Error with rank 5 and als_lam 0.08 is 0.0010224946118238835\n",
      "Error with rank 5 and als_lam 0.1 is 0.0012941549242245134\n",
      "Error with rank 5 and als_lam 0.12 is 0.001145907877584706\n",
      "Error with rank 5 and als_lam 0.14 is 0.0011703766579975918\n",
      "Error with rank 5 and als_lam 0.16 is 0.0015052682907986256\n",
      "Error with rank 5 and als_lam 0.18 is 0.0014059136145309404\n",
      "Error with rank 6 and als_lam 0.0 is 1.8097068807081622e+305\n",
      "Error with rank 6 and als_lam 0.02 is 0.0010544838470233036\n",
      "Error with rank 6 and als_lam 0.04 is 0.0009778016191030253\n",
      "Error with rank 6 and als_lam 0.06 is 0.0010338928991687154\n",
      "Error with rank 6 and als_lam 0.08 is 0.0008429265268621604\n",
      "Error with rank 6 and als_lam 0.1 is 0.0007978292087940381\n",
      "Error with rank 6 and als_lam 0.12 is 0.0011574013517289892\n",
      "Error with rank 6 and als_lam 0.14 is 0.0011796350324660943\n",
      "Error with rank 6 and als_lam 0.16 is 0.0013121851842472353\n",
      "Error with rank 6 and als_lam 0.18 is 0.0014397449326487577\n"
     ]
    },
    {
     "name": "stderr",
     "output_type": "stream",
     "text": [
      "C:\\ProgramData\\Anaconda3\\lib\\site-packages\\ipykernel_launcher.py:61: RuntimeWarning: overflow encountered in double_scalars\n"
     ]
    },
    {
     "name": "stdout",
     "output_type": "stream",
     "text": [
      "Error with rank 7 and als_lam 0.0 is inf\n",
      "Error with rank 7 and als_lam 0.02 is 0.0005820397768904043\n",
      "Error with rank 7 and als_lam 0.04 is 0.0005441272123401879\n",
      "Error with rank 7 and als_lam 0.06 is 0.0009471543260609829\n",
      "Error with rank 7 and als_lam 0.08 is 0.0008226216433239703\n",
      "Error with rank 7 and als_lam 0.1 is 0.0009406002045681447\n",
      "Error with rank 7 and als_lam 0.12 is 0.0013086029246397789\n",
      "Error with rank 7 and als_lam 0.14 is 0.0014162159392216954\n",
      "Error with rank 7 and als_lam 0.16 is 0.0014104904300491037\n",
      "Error with rank 7 and als_lam 0.18 is 0.001678408979585491\n",
      "Error with rank 8 and als_lam 0.0 is inf\n",
      "Error with rank 8 and als_lam 0.02 is 0.0008370370690508126\n",
      "Error with rank 8 and als_lam 0.04 is 0.0007921634863170435\n",
      "Error with rank 8 and als_lam 0.06 is 0.0007832260962429133\n",
      "Error with rank 8 and als_lam 0.08 is 0.0010646985073703868\n",
      "Error with rank 8 and als_lam 0.1 is 0.0011244350596085163\n",
      "Error with rank 8 and als_lam 0.12 is 0.0010847663697065482\n",
      "Error with rank 8 and als_lam 0.14 is 0.0011712835397840288\n",
      "Error with rank 8 and als_lam 0.16 is 0.0014338863336696647\n",
      "Error with rank 8 and als_lam 0.18 is 0.0013263600307163376\n",
      "Error with rank 9 and als_lam 0.0 is inf\n",
      "Error with rank 9 and als_lam 0.02 is 0.0009490774509773852\n",
      "Error with rank 9 and als_lam 0.04 is 0.0006378471855589639\n",
      "Error with rank 9 and als_lam 0.06 is 0.0008283276456027201\n",
      "Error with rank 9 and als_lam 0.08 is 0.0008881419930789768\n",
      "Error with rank 9 and als_lam 0.1 is 0.0010171746409589138\n",
      "Error with rank 9 and als_lam 0.12 is 0.0010305776017020733\n",
      "Error with rank 9 and als_lam 0.14 is 0.001066910380735872\n",
      "Error with rank 9 and als_lam 0.16 is 0.001304028263507983\n",
      "Error with rank 9 and als_lam 0.18 is 0.001830239453977756\n"
     ]
    }
   ],
   "source": [
    "ranks = [i for i in range(2, 10)]\n",
    "als_lams = [2*i/100. for i in range(0, 10)]\n",
    "errors = []\n",
    "\n",
    "for r in ranks:\n",
    "    temp = []f\n",
    "    for l in als_lams:\n",
    "        err = run_ALS(rank = r, ALS_lam = l)\n",
    "        print(\"Error with rank {} and als_lam {} is {}\".format(r, l, err))\n",
    "        temp.append(err)\n",
    "    errors.append(temp)"
   ]
  },
  {
   "cell_type": "code",
   "execution_count": 9,
   "metadata": {},
   "outputs": [
    {
     "data": {
      "text/plain": [
       "0.0009675726296254285"
      ]
     },
     "execution_count": 9,
     "metadata": {},
     "output_type": "execute_result"
    }
   ],
   "source": [
    "error"
   ]
  },
  {
   "cell_type": "code",
   "execution_count": 30,
   "metadata": {},
   "outputs": [
    {
     "data": {
      "text/plain": [
       "Text(0.5,1,'MSE of ALS Matrix estimation varying Ranks and ALS_Lambda')"
      ]
     },
     "execution_count": 30,
     "metadata": {},
     "output_type": "execute_result"
    },
    {
     "data": {
      "image/png": "[encoded data removed]",
      "text/plain": [
       "<matplotlib.figure.Figure at 0x2ad9e418a90>"
      ]
     },
     "metadata": {
      "needs_background": "light"
     },
     "output_type": "display_data"
    }
   ],
   "source": [
    "for i,  values in enumerate(errors):\n",
    "    rank = ranks[i]\n",
    "    corr_errs = values[1:]\n",
    "    plt.plot(als_lams[1:], corr_errs, label='Rank {}'.format(rank))\n",
    "\n",
    "plt.legend()\n",
    "plt.xlabel('ALS_Lambda Value')\n",
    "plt.ylabel('MSE')\n",
    "plt.title('MSE of ALS Matrix estimation varying Ranks and ALS_Lambda')"
   ]
  },
  {
   "cell_type": "code",
   "execution_count": 28,
   "metadata": {},
   "outputs": [
    {
     "data": {
      "text/plain": [
       "[19121.143571842666,\n",
       " 0.0005436655236343179,\n",
       " 0.0006301680461849621,\n",
       " 0.0008248270353622123,\n",
       " 0.0007097211324746214,\n",
       " 0.0008363401906133342,\n",
       " 0.0012329358008907338,\n",
       " 0.0013159234879363054,\n",
       " 0.0011029406844145246,\n",
       " 0.0012523162404151293]"
      ]
     },
     "execution_count": 28,
     "metadata": {},
     "output_type": "execute_result"
    }
   ],
   "source": [
    "errors[0]"
   ]
  },
  {
   "cell_type": "code",
   "execution_count": null,
   "metadata": {},
   "outputs": [],
   "source": []
  }
 ],
 "metadata": {
  "kernelspec": {
   "display_name": "Python 3",
   "language": "python",
   "name": "python3"
  },
  "language_info": {
   "codemirror_mode": {
    "name": "ipython",
    "version": 3
   },
   "file_extension": ".py",
   "mimetype": "text/x-python",
   "name": "python",
   "nbconvert_exporter": "python",
   "pygments_lexer": "ipython3",
   "version": "3.6.6"
  }
 },
 "nbformat": 4,
 "nbformat_minor": 2
}
